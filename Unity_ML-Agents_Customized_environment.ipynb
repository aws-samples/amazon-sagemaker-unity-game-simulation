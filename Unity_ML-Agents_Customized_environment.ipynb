{
 "cells": [
  {
   "cell_type": "markdown",
   "metadata": {},
   "source": [
    "# Unity Cloud Simulation and Automated Playtest with Amazon SageMaker RL\n",
    "\n",
    "---\n",
    "## Introduction\n",
    "\n",
    "[Unity](https://unity.com/) is currently the most popular gaming engine used by game developers around the world. Unity engine can be used to create 3D, 2D, virtual reality, and augmented reality games, as well as simulations and other experiences. [ML-Agents](https://github.com/Unity-Technologies/ml-agents) is an open-sourced toolkit developed by Unity to enable games and simulations to serve as environments for training intelligent agents. It provides capabilities on how to interact with Unity executables as well as how to train a RL agent. For how to use ML-Agents to train a Unity game agent on SageMaker, please refer to this [notebook](https://github.com/awslabs/amazon-sagemaker-examples/blob/master/advanced_functionality/unity_ml_agents/unity_mlagents_learn.ipynb).\n",
    "\n",
    "This sample notebook walks you through how to train the RL agents and automate playtests against a Unity game by using cloud simulation with Amazon SageMaker RL. Once you create your new game with Unity, you can automate playtests for your game by running the RL agent on Amazon SageMaker RL. After the playtests, you can also evaluate and visualize the result from game logs."
   ]
  },
  {
   "cell_type": "markdown",
   "metadata": {},
   "source": [
    "## Bring your own custom Unity environment\n",
    "\n",
    "For this sample, you can use your custom Unity executable for training.\n",
    "1. [Create a Unity executable](https://github.com/Unity-Technologies/ml-agents/blob/742c2fbf01188fbf27e82d5a7d9b5fd42f0de67a/docs/Learning-Environment-Executable.md) of your environment for Linux. Please make sure your environment only contains one single agent.\n",
    "2. Upload the executable file, dependency data files and library files to s3.\n",
    "3. Specify the s3 path in the form of `S3://<your bucket name>/<prefix>` in the following variable. \n",
    "ex) `s3_binary_path = 's3://unity-environment-1113/RollerBall'` \n",
    "It is used later for the training job and the evaluation step."
   ]
  },
  {
   "cell_type": "code",
   "execution_count": 388,
   "metadata": {},
   "outputs": [],
   "source": [
    "s3_binary_path = 's3://sagemaker-unity-mlagents/RollerBall'"
   ]
  },
  {
   "cell_type": "markdown",
   "metadata": {},
   "source": [
    "## Pre-requisites\n",
    "\n",
    "### Imports\n",
    "\n",
    "To get started, we'll import the Python libraries we need, set up the environment with a few prerequisites for permissions and configurations."
   ]
  },
  {
   "cell_type": "code",
   "execution_count": 389,
   "metadata": {
    "scrolled": true
   },
   "outputs": [],
   "source": [
    "import sagemaker\n",
    "import boto3\n",
    "import sys\n",
    "import os\n",
    "import glob\n",
    "import re\n",
    "import subprocess\n",
    "import numpy as np\n",
    "from IPython.display import HTML\n",
    "import time\n",
    "from time import gmtime, strftime\n",
    "sys.path.append(\"common\")\n",
    "from misc import get_execution_role, wait_for_s3_object\n",
    "from docker_utils import build_and_push_docker_image\n",
    "from sagemaker.rl import RLEstimator, RLToolkit, RLFramework"
   ]
  },
  {
   "cell_type": "markdown",
   "metadata": {},
   "source": [
    "### Setup S3 bucket\n",
    "\n",
    "Set up the linkage and authentication to the S3 bucket that you want to use for checkpoint and the metadata. "
   ]
  },
  {
   "cell_type": "code",
   "execution_count": 390,
   "metadata": {},
   "outputs": [
    {
     "name": "stdout",
     "output_type": "stream",
     "text": [
      "S3 bucket path: s3://sagemaker-unity-mlagents/\n"
     ]
    }
   ],
   "source": [
    "sage_session = sagemaker.session.Session()\n",
    "s3_bucket = sage_session.default_bucket()  \n",
    "s3_output_path = 's3://{}/'.format(s3_bucket)\n",
    "print(\"S3 bucket path: {}\".format(s3_output_path))"
   ]
  },
  {
   "cell_type": "markdown",
   "metadata": {},
   "source": [
    "### Define Variables \n",
    "\n",
    "We define variables such as the job prefix for the training jobs *and the image path for the container (only when this is BYOC).*"
   ]
  },
  {
   "cell_type": "code",
   "execution_count": 391,
   "metadata": {},
   "outputs": [],
   "source": [
    "# create a descriptive job name \n",
    "job_name_prefix = 'rl-unity-ray'"
   ]
  },
  {
   "cell_type": "markdown",
   "metadata": {},
   "source": [
    "### Configure where training happens\n",
    "\n",
    "You can train your RL training jobs using the SageMaker notebook instance or local notebook instance. In both of these scenarios, you can run the following in either local or SageMaker modes. The local mode uses the SageMaker Python SDK to run your code in a local container before deploying to SageMaker. This can speed up iterative testing and debugging while using the same familiar Python SDK interface. You just need to set `local_mode = True`."
   ]
  },
  {
   "cell_type": "code",
   "execution_count": 392,
   "metadata": {},
   "outputs": [],
   "source": [
    "# run in local_mode on this machine, or as a SageMaker TrainingJob?\n",
    "local_mode = False\n",
    "\n",
    "if local_mode:\n",
    "    instance_type = 'local'\n",
    "else:\n",
    "    # If on SageMaker, pick the instance type\n",
    "    instance_type = \"ml.c5.2xlarge\""
   ]
  },
  {
   "cell_type": "markdown",
   "metadata": {},
   "source": [
    "### Create an IAM role\n",
    "\n",
    "Either get the execution role when running from a SageMaker notebook instance `role = sagemaker.get_execution_role()` or, when running from local notebook instance, use utils method `role = get_execution_role()` to create an execution role."
   ]
  },
  {
   "cell_type": "code",
   "execution_count": 393,
   "metadata": {},
   "outputs": [
    {
     "name": "stdout",
     "output_type": "stream",
     "text": [
      "Using IAM role arn: arn:aws:iam::730547285608:role/SageMakerHandson\n"
     ]
    }
   ],
   "source": [
    "try:\n",
    "    role = sagemaker.get_execution_role()\n",
    "except:\n",
    "    role = get_execution_role()\n",
    "\n",
    "print(\"Using IAM role arn: {}\".format(role))"
   ]
  },
  {
   "cell_type": "markdown",
   "metadata": {},
   "source": [
    "### Install docker for `local` mode\n",
    "\n",
    "In order to work in `local` mode, you need to have docker installed. When running from you local machine, please make sure that you have docker and docker-compose (for local CPU machines) and nvidia-docker (for local GPU machines) installed. Alternatively, when running from a SageMaker notebook instance, you can simply run the following script to install dependenceis.\n",
    "\n",
    "Note, you can only run a single local notebook at one time."
   ]
  },
  {
   "cell_type": "code",
   "execution_count": 394,
   "metadata": {},
   "outputs": [],
   "source": [
    "# only run from SageMaker notebook instance\n",
    "if local_mode:\n",
    "    !/bin/bash ./common/setup.sh"
   ]
  },
  {
   "cell_type": "markdown",
   "metadata": {},
   "source": [
    "## Build docker container\n",
    "\n",
    "We must build a custom docker container with Roboschool installed.  This takes care of everything:\n",
    "\n",
    "1. Fetching base container image\n",
    "2. Installing Roboschool and its dependencies\n",
    "3. Uploading the new container image to ECR\n",
    "\n",
    "This step can take a long time if you are running on a machine with a slow internet connection.  If your notebook instance is in SageMaker or EC2 it should take 3-10 minutes depending on the instance type.\n"
   ]
  },
  {
   "cell_type": "code",
   "execution_count": 395,
   "metadata": {
    "scrolled": true
   },
   "outputs": [
    {
     "name": "stdout",
     "output_type": "stream",
     "text": [
      "WARNING! Using --password via the CLI is insecure. Use --password-stdin.\n",
      "WARNING! Your password will be stored unencrypted in /home/ec2-user/.docker/config.json.\n",
      "Configure a credential helper to remove this warning. See\n",
      "https://docs.docker.com/engine/reference/commandline/login/#credentials-store\n",
      "Logged into ECR\n",
      "Building docker image sagemaker-unity-ray-cpu from Dockerfile\n",
      "$ docker build -t sagemaker-unity-ray-cpu -f Dockerfile . --build-arg CPU_OR_GPU=cpu --build-arg AWS_REGION=ap-northeast-1\n",
      "Sending build context to Docker daemon  1.258MB\n",
      "Step 1/12 : ARG CPU_OR_GPU\n",
      "Step 2/12 : ARG AWS_REGION\n",
      "Step 3/12 : FROM 462105765813.dkr.ecr.${AWS_REGION}.amazonaws.com/sagemaker-rl-ray-container:ray-0.8.2-tf-${CPU_OR_GPU}-py36\n",
      " ---> 38b6fd16b6b3\n",
      "Step 4/12 : WORKDIR /opt/ml\n",
      " ---> Using cache\n",
      " ---> 6849c7cf3565\n",
      "Step 5/12 : RUN apt-get update &&     apt-get install -y libboost-python-dev\n",
      " ---> Using cache\n",
      " ---> dab5dd63bbd8\n",
      "Step 6/12 : RUN apt-get update     && apt-get install -y --no-install-recommends python3.6-dev     && ln -s -f /usr/bin/python3.6 /usr/bin/python     && apt-get clean     && rm -rf /var/cache/apt/archives/* /var/lib/apt/lists/*\n",
      " ---> Using cache\n",
      " ---> 1991d716418a\n",
      "Step 7/12 : RUN curl -fSsL -O https://bootstrap.pypa.io/get-pip.py &&     python get-pip.py &&     rm get-pip.py\n",
      " ---> Using cache\n",
      " ---> a9c9f9220600\n",
      "Step 8/12 : RUN pip install --upgrade     pip     gym-unity     mlagents-envs\n",
      " ---> Using cache\n",
      " ---> b2b347227142\n",
      "Step 9/12 : RUN pip install sagemaker-containers --upgrade\n",
      " ---> Using cache\n",
      " ---> 663724f6f2a3\n",
      "Step 10/12 : ENV PYTHONUNBUFFERED 1\n",
      " ---> Using cache\n",
      " ---> cc0966d0b913\n",
      "Step 11/12 : RUN python -c \"import gym;import sagemaker_containers.cli.train;import ray; from sagemaker_containers.cli.train import main; from mlagents_envs.environment import UnityEnvironment; from mlagents_envs.registry import default_registry; from gym_unity.envs import UnityToGymWrapper\"\n",
      " ---> Using cache\n",
      " ---> a6ae57bfc66b\n",
      "Step 12/12 : WORKDIR /opt/ml/code\n",
      " ---> Using cache\n",
      " ---> d69098c10c38\n",
      "Successfully built d69098c10c38\n",
      "Successfully tagged sagemaker-unity-ray-cpu:latest\n",
      "Done building docker image sagemaker-unity-ray-cpu\n",
      "ECR repository already exists: sagemaker-unity-ray-cpu\n",
      "WARNING! Using --password via the CLI is insecure. Use --password-stdin.\n",
      "WARNING! Your password will be stored unencrypted in /home/ec2-user/.docker/config.json.\n",
      "Configure a credential helper to remove this warning. See\n",
      "Logged into ECR\n",
      "$ docker tag sagemaker-unity-ray-cpu 730547285608.dkr.ecr.ap-northeast-1.amazonaws.com/sagemaker-unity-ray-cpu\n",
      "Pushing docker image to ECR repository 730547285608.dkr.ecr.ap-northeast-1.amazonaws.com/sagemaker-unity-ray-cpu\n",
      "\n",
      "$ docker push 730547285608.dkr.ecr.ap-northeast-1.amazonaws.com/sagemaker-unity-ray-cpu\n",
      "The push refers to repository [730547285608.dkr.ecr.ap-northeast-1.amazonaws.com/sagemaker-unity-ray-cpu]\n",
      "1a1a0731ae71: Preparing\n",
      "ee3bdaca818c: Preparing\n",
      "b851b8d481c1: Preparing\n",
      "3c9a0bc81492: Preparing\n",
      "09c5073beafd: Preparing\n",
      "b20a60eedd03: Preparing\n",
      "7ff17b41de9c: Preparing\n",
      "8843887c7f0c: Preparing\n",
      "720f71d13a01: Preparing\n",
      "2efd74d9553e: Preparing\n",
      "853cf17e9c89: Preparing\n",
      "85636524edab: Preparing\n",
      "09f11a2ecf3a: Preparing\n",
      "10018c803ce7: Preparing\n",
      "e4020b197b08: Preparing\n",
      "3fa3bcd9e4f8: Preparing\n",
      "b41ed27bdf23: Preparing\n",
      "71c747a735ee: Preparing\n",
      "e3de265b4a07: Preparing\n",
      "cd2daf664231: Preparing\n",
      "d36e9474ac8d: Preparing\n",
      "e54e6c789bd1: Preparing\n",
      "652465d5ffd1: Preparing\n",
      "3207e37f97cc: Preparing\n",
      "501f027e9b6c: Preparing\n",
      "16542a8fc3be: Preparing\n",
      "6597da2e2e52: Preparing\n",
      "977183d4e999: Preparing\n",
      "c8be1b8f4d60: Preparing\n",
      "b20a60eedd03: Waiting\n",
      "7ff17b41de9c: Waiting\n",
      "8843887c7f0c: Waiting\n",
      "720f71d13a01: Waiting\n",
      "2efd74d9553e: Waiting\n",
      "853cf17e9c89: Waiting\n",
      "85636524edab: Waiting\n",
      "09f11a2ecf3a: Waiting\n",
      "10018c803ce7: Waiting\n",
      "e4020b197b08: Waiting\n",
      "3fa3bcd9e4f8: Waiting\n",
      "b41ed27bdf23: Waiting\n",
      "71c747a735ee: Waiting\n",
      "e3de265b4a07: Waiting\n",
      "cd2daf664231: Waiting\n",
      "d36e9474ac8d: Waiting\n",
      "e54e6c789bd1: Waiting\n",
      "652465d5ffd1: Waiting\n",
      "3207e37f97cc: Waiting\n",
      "501f027e9b6c: Waiting\n",
      "16542a8fc3be: Waiting\n",
      "6597da2e2e52: Waiting\n",
      "977183d4e999: Waiting\n",
      "c8be1b8f4d60: Waiting\n",
      "3c9a0bc81492: Layer already exists\n",
      "b851b8d481c1: Layer already exists\n",
      "09c5073beafd: Layer already exists\n",
      "1a1a0731ae71: Layer already exists\n",
      "ee3bdaca818c: Layer already exists\n",
      "8843887c7f0c: Layer already exists\n",
      "720f71d13a01: Layer already exists\n",
      "7ff17b41de9c: Layer already exists\n",
      "b20a60eedd03: Layer already exists\n",
      "2efd74d9553e: Layer already exists\n",
      "853cf17e9c89: Layer already exists\n",
      "85636524edab: Layer already exists\n",
      "09f11a2ecf3a: Layer already exists\n",
      "e4020b197b08: Layer already exists\n",
      "10018c803ce7: Layer already exists\n",
      "3fa3bcd9e4f8: Layer already exists\n",
      "b41ed27bdf23: Layer already exists\n",
      "71c747a735ee: Layer already exists\n",
      "e3de265b4a07: Layer already exists\n",
      "d36e9474ac8d: Layer already exists\n",
      "e54e6c789bd1: Layer already exists\n",
      "652465d5ffd1: Layer already exists\n",
      "cd2daf664231: Layer already exists\n",
      "3207e37f97cc: Layer already exists\n",
      "16542a8fc3be: Layer already exists\n",
      "501f027e9b6c: Layer already exists\n",
      "977183d4e999: Layer already exists\n",
      "6597da2e2e52: Layer already exists\n",
      "c8be1b8f4d60: Layer already exists\n",
      "latest: digest: sha256:e72edd50180488e6021b58d713e6a9e210f629fb30f4094f8c44d4da9bb00b58 size: 6386\n",
      "Done pushing 730547285608.dkr.ecr.ap-northeast-1.amazonaws.com/sagemaker-unity-ray-cpu\n",
      "Using ECR image 730547285608.dkr.ecr.ap-northeast-1.amazonaws.com/sagemaker-unity-ray-cpu\n",
      "CPU times: user 148 ms, sys: 55.4 ms, total: 203 ms\n",
      "Wall time: 2.26 s\n"
     ]
    }
   ],
   "source": [
    "%%time\n",
    "\n",
    "cpu_or_gpu = 'gpu' if instance_type.startswith('ml.p') else 'cpu'\n",
    "repository_short_name = \"sagemaker-unity-ray-%s\" % cpu_or_gpu\n",
    "docker_build_args = {\n",
    "    'CPU_OR_GPU': cpu_or_gpu, \n",
    "    'AWS_REGION': boto3.Session().region_name,\n",
    "}\n",
    "custom_image_name = build_and_push_docker_image(repository_short_name, build_args=docker_build_args)\n",
    "print(\"Using ECR image %s\" % custom_image_name)"
   ]
  },
  {
   "cell_type": "markdown",
   "metadata": {},
   "source": [
    "## Write the Training Code\n",
    "\n",
    "The training code is written in the file “train-unity.py” which is uploaded in the /src directory. \n",
    "First import the environment files and the preset files, and then define the main() function.\n"
   ]
  },
  {
   "cell_type": "code",
   "execution_count": 396,
   "metadata": {},
   "outputs": [
    {
     "name": "stdout",
     "output_type": "stream",
     "text": [
      "\u001b[34mimport\u001b[39;49;00m \u001b[04m\u001b[36mjson\u001b[39;49;00m\n",
      "\u001b[34mimport\u001b[39;49;00m \u001b[04m\u001b[36mos\u001b[39;49;00m\n",
      "\u001b[34mimport\u001b[39;49;00m \u001b[04m\u001b[36msubprocess\u001b[39;49;00m\n",
      "\n",
      "\u001b[34mimport\u001b[39;49;00m \u001b[04m\u001b[36mgym\u001b[39;49;00m\n",
      "\u001b[34mimport\u001b[39;49;00m \u001b[04m\u001b[36mray\u001b[39;49;00m\n",
      "\u001b[34mfrom\u001b[39;49;00m \u001b[04m\u001b[36mray\u001b[39;49;00m\u001b[04m\u001b[36m.\u001b[39;49;00m\u001b[04m\u001b[36mtune\u001b[39;49;00m \u001b[34mimport\u001b[39;49;00m run_experiments\n",
      "\u001b[34mfrom\u001b[39;49;00m \u001b[04m\u001b[36mray\u001b[39;49;00m\u001b[04m\u001b[36m.\u001b[39;49;00m\u001b[04m\u001b[36mtune\u001b[39;49;00m\u001b[04m\u001b[36m.\u001b[39;49;00m\u001b[04m\u001b[36mregistry\u001b[39;49;00m \u001b[34mimport\u001b[39;49;00m register_env\n",
      "\n",
      "\u001b[34mfrom\u001b[39;49;00m \u001b[04m\u001b[36msagemaker_rl\u001b[39;49;00m\u001b[04m\u001b[36m.\u001b[39;49;00m\u001b[04m\u001b[36mray_launcher\u001b[39;49;00m \u001b[34mimport\u001b[39;49;00m SageMakerRayLauncher\n",
      "\u001b[34mfrom\u001b[39;49;00m \u001b[04m\u001b[36mmlagents_envs\u001b[39;49;00m\u001b[04m\u001b[36m.\u001b[39;49;00m\u001b[04m\u001b[36menvironment\u001b[39;49;00m \u001b[34mimport\u001b[39;49;00m UnityEnvironment\n",
      "\u001b[34mfrom\u001b[39;49;00m \u001b[04m\u001b[36mmlagents_envs\u001b[39;49;00m\u001b[04m\u001b[36m.\u001b[39;49;00m\u001b[04m\u001b[36mregistry\u001b[39;49;00m \u001b[34mimport\u001b[39;49;00m default_registry\n",
      "\u001b[34mfrom\u001b[39;49;00m \u001b[04m\u001b[36mgym_unity\u001b[39;49;00m\u001b[04m\u001b[36m.\u001b[39;49;00m\u001b[04m\u001b[36menvs\u001b[39;49;00m \u001b[34mimport\u001b[39;49;00m UnityToGymWrapper\n",
      "\n",
      "\n",
      "\u001b[34mclass\u001b[39;49;00m \u001b[04m\u001b[32mUnityEnvWrapper\u001b[39;49;00m(gym.Env):\n",
      "    \u001b[34mdef\u001b[39;49;00m \u001b[32m__init__\u001b[39;49;00m(\u001b[36mself\u001b[39;49;00m, env_config):\n",
      "        \u001b[36mself\u001b[39;49;00m.worker_index = env_config.worker_index\n",
      "\n",
      "        \u001b[34mif\u001b[39;49;00m \u001b[33m'\u001b[39;49;00m\u001b[33mSM_CHANNEL_TRAIN\u001b[39;49;00m\u001b[33m'\u001b[39;49;00m \u001b[35min\u001b[39;49;00m os.environ:\n",
      "            env_name = os.environ[\u001b[33m'\u001b[39;49;00m\u001b[33mSM_CHANNEL_TRAIN\u001b[39;49;00m\u001b[33m'\u001b[39;49;00m] +\u001b[33m'\u001b[39;49;00m\u001b[33m/\u001b[39;49;00m\u001b[33m'\u001b[39;49;00m+ env_config[\u001b[33m'\u001b[39;49;00m\u001b[33menv_name\u001b[39;49;00m\u001b[33m'\u001b[39;49;00m]\n",
      "            subprocess.call(\u001b[33mf\u001b[39;49;00m\u001b[33m'\u001b[39;49;00m\u001b[33mchmod 755 \u001b[39;49;00m\u001b[33m{\u001b[39;49;00menv_name\u001b[33m}\u001b[39;49;00m\u001b[33m'\u001b[39;49;00m.split())\n",
      "            unity_env = UnityEnvironment(\n",
      "                      env_name, \n",
      "                      no_graphics=\u001b[34mTrue\u001b[39;49;00m, \n",
      "                      worker_id=\u001b[36mself\u001b[39;49;00m.worker_index, \n",
      "                      additional_args=[\u001b[33m'\u001b[39;49;00m\u001b[33m-logFile\u001b[39;49;00m\u001b[33m'\u001b[39;49;00m, \u001b[33m'\u001b[39;49;00m\u001b[33munity.log\u001b[39;49;00m\u001b[33m'\u001b[39;49;00m])\n",
      "        \u001b[34melse\u001b[39;49;00m:\n",
      "            env_name = env_config[\u001b[33m'\u001b[39;49;00m\u001b[33menv_name\u001b[39;49;00m\u001b[33m'\u001b[39;49;00m]\n",
      "            unity_env = default_registry[env_name].make(\n",
      "              no_graphics=\u001b[34mTrue\u001b[39;49;00m,\n",
      "              worker_id=\u001b[36mself\u001b[39;49;00m.worker_index,\n",
      "              additional_args=[\u001b[33m'\u001b[39;49;00m\u001b[33m-logFile\u001b[39;49;00m\u001b[33m'\u001b[39;49;00m, \u001b[33m'\u001b[39;49;00m\u001b[33munity.log\u001b[39;49;00m\u001b[33m'\u001b[39;49;00m])\n",
      "            \n",
      "        \u001b[36mself\u001b[39;49;00m.env = UnityToGymWrapper(unity_env) \n",
      "        \u001b[36mself\u001b[39;49;00m.action_space = \u001b[36mself\u001b[39;49;00m.env.action_space\n",
      "        \u001b[36mself\u001b[39;49;00m.observation_space = \u001b[36mself\u001b[39;49;00m.env.observation_space\n",
      "\n",
      "    \u001b[34mdef\u001b[39;49;00m \u001b[32mreset\u001b[39;49;00m(\u001b[36mself\u001b[39;49;00m):\n",
      "        \u001b[34mreturn\u001b[39;49;00m \u001b[36mself\u001b[39;49;00m.env.reset()\n",
      "\n",
      "    \u001b[34mdef\u001b[39;49;00m \u001b[32mstep\u001b[39;49;00m(\u001b[36mself\u001b[39;49;00m, action):\n",
      "        \u001b[34mreturn\u001b[39;49;00m \u001b[36mself\u001b[39;49;00m.env.step(action)\n",
      "\n",
      "    \u001b[34mdef\u001b[39;49;00m \u001b[32mrender\u001b[39;49;00m(\u001b[36mself\u001b[39;49;00m):\n",
      "        \u001b[34mreturn\u001b[39;49;00m \u001b[36mself\u001b[39;49;00m.env.render()\n",
      "\n",
      "    \u001b[34mdef\u001b[39;49;00m \u001b[32mclose\u001b[39;49;00m(\u001b[36mself\u001b[39;49;00m):\n",
      "        \u001b[36mself\u001b[39;49;00m.env.close()\n",
      "\n",
      "    \u001b[34mdef\u001b[39;49;00m \u001b[32m__del__\u001b[39;49;00m(\u001b[36mself\u001b[39;49;00m): \n",
      "        \u001b[36mself\u001b[39;49;00m.close()\n",
      "\n",
      "\n",
      "\u001b[34mclass\u001b[39;49;00m \u001b[04m\u001b[32mMyLauncher\u001b[39;49;00m(SageMakerRayLauncher):\n",
      "\n",
      "    \u001b[34mdef\u001b[39;49;00m \u001b[32mregister_env_creator\u001b[39;49;00m(\u001b[36mself\u001b[39;49;00m):\n",
      "        register_env(\u001b[33m\"\u001b[39;49;00m\u001b[33munity_env\u001b[39;49;00m\u001b[33m\"\u001b[39;49;00m, \u001b[34mlambda\u001b[39;49;00m config: UnityEnvWrapper(config))\n",
      "\n",
      "    \u001b[34mdef\u001b[39;49;00m \u001b[32mget_experiment_config\u001b[39;49;00m(\u001b[36mself\u001b[39;49;00m):\n",
      "        \u001b[34mreturn\u001b[39;49;00m {\n",
      "          \u001b[33m\"\u001b[39;49;00m\u001b[33mtraining\u001b[39;49;00m\u001b[33m\"\u001b[39;49;00m: {\n",
      "            \u001b[33m\"\u001b[39;49;00m\u001b[33mrun\u001b[39;49;00m\u001b[33m\"\u001b[39;49;00m: \u001b[33m\"\u001b[39;49;00m\u001b[33mPPO\u001b[39;49;00m\u001b[33m\"\u001b[39;49;00m,\n",
      "            \u001b[33m\"\u001b[39;49;00m\u001b[33mstop\u001b[39;49;00m\u001b[33m\"\u001b[39;49;00m: {\n",
      "              \u001b[33m\"\u001b[39;49;00m\u001b[33mtimesteps_total\u001b[39;49;00m\u001b[33m\"\u001b[39;49;00m: \u001b[34m10000\u001b[39;49;00m,\n",
      "            },\n",
      "            \u001b[33m\"\u001b[39;49;00m\u001b[33mconfig\u001b[39;49;00m\u001b[33m\"\u001b[39;49;00m: {\n",
      "              \u001b[33m\"\u001b[39;49;00m\u001b[33menv\u001b[39;49;00m\u001b[33m\"\u001b[39;49;00m: \u001b[33m\"\u001b[39;49;00m\u001b[33munity_env\u001b[39;49;00m\u001b[33m\"\u001b[39;49;00m,\n",
      "              \u001b[33m\"\u001b[39;49;00m\u001b[33mgamma\u001b[39;49;00m\u001b[33m\"\u001b[39;49;00m: \u001b[34m0.995\u001b[39;49;00m,\n",
      "              \u001b[33m\"\u001b[39;49;00m\u001b[33mkl_coeff\u001b[39;49;00m\u001b[33m\"\u001b[39;49;00m: \u001b[34m1.0\u001b[39;49;00m,\n",
      "              \u001b[33m\"\u001b[39;49;00m\u001b[33mnum_sgd_iter\u001b[39;49;00m\u001b[33m\"\u001b[39;49;00m: \u001b[34m20\u001b[39;49;00m,\n",
      "              \u001b[33m\"\u001b[39;49;00m\u001b[33mlr\u001b[39;49;00m\u001b[33m\"\u001b[39;49;00m: \u001b[34m0.0001\u001b[39;49;00m,\n",
      "              \u001b[33m\"\u001b[39;49;00m\u001b[33msgd_minibatch_size\u001b[39;49;00m\u001b[33m\"\u001b[39;49;00m: \u001b[34m100\u001b[39;49;00m,\n",
      "              \u001b[33m\"\u001b[39;49;00m\u001b[33mtrain_batch_size\u001b[39;49;00m\u001b[33m\"\u001b[39;49;00m: \u001b[34m500\u001b[39;49;00m,\n",
      "              \u001b[33m\"\u001b[39;49;00m\u001b[33mmonitor\u001b[39;49;00m\u001b[33m\"\u001b[39;49;00m: \u001b[34mTrue\u001b[39;49;00m,  \u001b[37m# Record videos.\u001b[39;49;00m\n",
      "              \u001b[33m\"\u001b[39;49;00m\u001b[33mmodel\u001b[39;49;00m\u001b[33m\"\u001b[39;49;00m: {\n",
      "                \u001b[33m\"\u001b[39;49;00m\u001b[33mfree_log_std\u001b[39;49;00m\u001b[33m\"\u001b[39;49;00m: \u001b[34mTrue\u001b[39;49;00m\n",
      "              },\n",
      "              \u001b[33m\"\u001b[39;49;00m\u001b[33menv_config\u001b[39;49;00m\u001b[33m\"\u001b[39;49;00m:{\n",
      "                \u001b[33m\"\u001b[39;49;00m\u001b[33menv_name\u001b[39;49;00m\u001b[33m\"\u001b[39;49;00m: \u001b[33m\"\u001b[39;49;00m\u001b[33mBasic\u001b[39;49;00m\u001b[33m\"\u001b[39;49;00m\n",
      "              },\n",
      "              \u001b[33m\"\u001b[39;49;00m\u001b[33mnum_workers\u001b[39;49;00m\u001b[33m\"\u001b[39;49;00m: (\u001b[36mself\u001b[39;49;00m.num_cpus-\u001b[34m1\u001b[39;49;00m),\n",
      "              \u001b[37m# \"num_workers\": 0,\u001b[39;49;00m\n",
      "            }\n",
      "          }\n",
      "        }\n",
      "\n",
      "\u001b[34mif\u001b[39;49;00m \u001b[31m__name__\u001b[39;49;00m == \u001b[33m\"\u001b[39;49;00m\u001b[33m__main__\u001b[39;49;00m\u001b[33m\"\u001b[39;49;00m:\n",
      "    MyLauncher().train_main()\n"
     ]
    }
   ],
   "source": [
    "!pygmentize src/train-unity.py"
   ]
  },
  {
   "cell_type": "markdown",
   "metadata": {},
   "source": [
    "## Train the RL model using the Python SDK Script mode with Unity executables\n",
    "\n",
    "If you are using local mode, the training will run on the notebook instance. When using SageMaker for training, you can select a GPU or CPU instance. The RLEstimator is used for training RL jobs. \n",
    "\n",
    "1. Specify the source directory where the environment, presets and training code is uploaded.\n",
    "2. Specify the entry point as the training code \n",
    "3. Specify the choice of RL toolkit and framework. This automatically resolves to the ECR path for the RL Container. \n",
    "4. Define the training parameters such as the instance count, job name, S3 path for output and job name. \n",
    "5. Specify the hyperparameters for the RL agent algorithm. \n",
    "6. Define the metrics definitions that you are interested in capturing in your logs. These can also be visualized in CloudWatch and SageMaker Notebooks. "
   ]
  },
  {
   "cell_type": "code",
   "execution_count": 401,
   "metadata": {},
   "outputs": [
    {
     "name": "stderr",
     "output_type": "stream",
     "text": [
      "WARNING:root:Parameter image_name will be renamed to image_uri in SageMaker Python SDK v2.\n",
      "WARNING:sagemaker:'s3_input' class will be renamed to 'TrainingInput' in SageMaker Python SDK v2.\n"
     ]
    },
    {
     "name": "stdout",
     "output_type": "stream",
     "text": [
      "Training job: rl-unity-ray-2020-11-13-05-07-55-303\n",
      "CPU times: user 107 ms, sys: 6.64 ms, total: 114 ms\n",
      "Wall time: 593 ms\n"
     ]
    }
   ],
   "source": [
    "%%time\n",
    "\n",
    "metric_definitions = RLEstimator.default_metric_definitions(RLToolkit.RAY)\n",
    "    \n",
    "estimator = RLEstimator(entry_point=\"train-unity.py\",\n",
    "                        source_dir='src',\n",
    "                        dependencies=[\"common/sagemaker_rl\"],\n",
    "                        image_name=custom_image_name,\n",
    "                        role=role,\n",
    "                        train_instance_type=instance_type,\n",
    "                        train_instance_count=1,\n",
    "                        output_path=s3_output_path,\n",
    "                        base_job_name=job_name_prefix,\n",
    "                        metric_definitions=metric_definitions,\n",
    "                        hyperparameters={\n",
    "                          # Attention scientists!  You can override any Ray algorithm parameter here:\n",
    "                          \"rl.training.config.env_config.env_name\": \"RollerBallSimulation.x86_64\",\n",
    "                          \"rl.training.stop.timesteps_total\": 40000,\n",
    "                          #\"rl.training.config.train_batch_size\": 100,\n",
    "                          #\"rl.training.config.num_sgd_iter\": 10,\n",
    "                        }\n",
    "                    )\n",
    "\n",
    "estimator.fit({'train': s3_binary_path}, wait=local_mode)\n",
    "job_name = estimator.latest_training_job.job_name\n",
    "print(\"Training job: %s\" % job_name)"
   ]
  },
  {
   "cell_type": "markdown",
   "metadata": {},
   "source": [
    "## Visualization\n",
    "### Plot metrics for training job\n",
    "We can see the reward metric of the training as it's running, using algorithm metrics that are recorded in CloudWatch metrics.  We can plot this to see the performance of the model over time."
   ]
  },
  {
   "cell_type": "code",
   "execution_count": 404,
   "metadata": {},
   "outputs": [
    {
     "name": "stdout",
     "output_type": "stream",
     "text": [
      "Training job started. Waiting for algorithm metric...\n"
     ]
    },
    {
     "data": {
      "image/png": "[encoded data removed]",
      "text/plain": [
       "<Figure size 864x360 with 1 Axes>"
      ]
     },
     "metadata": {
      "needs_background": "light"
     },
     "output_type": "display_data"
    }
   ],
   "source": [
    "%matplotlib inline\n",
    "from sagemaker.analytics import TrainingJobAnalytics\n",
    "import time\n",
    "\n",
    "sm_client = boto3.client(service_name='sagemaker')\n",
    "state = sm_client.describe_training_job(\n",
    "    TrainingJobName=job_name).get('SecondaryStatus')\n",
    "\n",
    "if not local_mode:\n",
    "    while state == 'Starting':\n",
    "        state = sm_client.describe_training_job(\n",
    "            TrainingJobName=job_name).get('SecondaryStatus')\n",
    "        print(\"Training job starting...\")\n",
    "        time.sleep(30)\n",
    "    print(\"Training job started. Waiting for algorithm metric...\")\n",
    "    df = TrainingJobAnalytics(job_name, ['episode_reward_mean']).dataframe()\n",
    "    num_metrics = len(df)\n",
    "    if num_metrics == 0:\n",
    "        print(\"No algorithm metrics found in CloudWatch, please check later.\")\n",
    "    else:\n",
    "        plt = df.plot(x='timestamp', y='value', figsize=(12,5), legend=True, style='b-')\n",
    "        plt.set_ylabel('Mean reward per episode')\n",
    "        plt.set_xlabel('Training time (s)')\n",
    "else:\n",
    "    print(\"Can't plot metrics in local mode.\")"
   ]
  },
  {
   "cell_type": "markdown",
   "metadata": {},
   "source": [
    "## Evaluation of RL models\n",
    "\n",
    "We use the last checkpointed model to run evaluation for the RL Agent. \n",
    "\n",
    "### Load checkpointed model for evaluation\n",
    "\n",
    "Checkpointed data from the previously trained models will be passed on for evaluation / inference in the checkpoint channel. In local mode, we can simply use the local directory, whereas in the SageMaker mode, it needs to be moved to S3 first."
   ]
  },
  {
   "cell_type": "code",
   "execution_count": 405,
   "metadata": {},
   "outputs": [
    {
     "name": "stdout",
     "output_type": "stream",
     "text": [
      "Create local folder /tmp/rl-unity-ray-2020-11-13-05-07-55-303\n",
      "Waiting for s3://sagemaker-unity-mlagents/rl-unity-ray-2020-11-13-05-07-55-303/output/model.tar.gz...\n",
      "Downloading rl-unity-ray-2020-11-13-05-07-55-303/output/model.tar.gz\n",
      "Checkpoint directory /tmp/rl-unity-ray-2020-11-13-05-07-55-303/model\n"
     ]
    }
   ],
   "source": [
    "tmp_dir = \"/tmp/{}\".format(job_name)\n",
    "os.system(\"mkdir {}\".format(tmp_dir))\n",
    "print(\"Create local folder {}\".format(tmp_dir))\n",
    "\n",
    "if local_mode:\n",
    "    model_tar_key = \"{}/model.tar.gz\".format(job_name)\n",
    "else:\n",
    "    model_tar_key = \"{}/output/model.tar.gz\".format(job_name)\n",
    "    \n",
    "local_checkpoint_dir = \"{}/model\".format(tmp_dir)\n",
    "\n",
    "wait_for_s3_object(s3_bucket, model_tar_key, tmp_dir, training_job_name=job_name)  \n",
    "\n",
    "if not os.path.isfile(\"{}/model.tar.gz\".format(tmp_dir)):\n",
    "    raise FileNotFoundError(\"File model.tar.gz not found\")\n",
    "    \n",
    "os.system(\"mkdir -p {}\".format(local_checkpoint_dir))\n",
    "os.system(\"tar -xvzf {}/model.tar.gz -C {}\".format(tmp_dir, local_checkpoint_dir))\n",
    "\n",
    "print(\"Checkpoint directory {}\".format(local_checkpoint_dir))"
   ]
  },
  {
   "cell_type": "code",
   "execution_count": 406,
   "metadata": {},
   "outputs": [
    {
     "name": "stdout",
     "output_type": "stream",
     "text": [
      "S3 checkpoint file path: s3://sagemaker-unity-mlagents/rl-unity-ray-2020-11-13-05-07-55-303/checkpoint/\n"
     ]
    }
   ],
   "source": [
    "if local_mode:\n",
    "    checkpoint_path = 'file://{}'.format(local_checkpoint_dir)\n",
    "    print(\"Local checkpoint file path: {}\".format(local_checkpoint_dir))\n",
    "else:\n",
    "    checkpoint_path = \"s3://{}/{}/checkpoint/\".format(s3_bucket, job_name)\n",
    "    if not os.listdir(local_checkpoint_dir):\n",
    "        raise FileNotFoundError(\"Checkpoint files not found under the path\")\n",
    "    os.system(\"aws s3 cp --recursive {} {}\".format(local_checkpoint_dir, checkpoint_path))\n",
    "    print(\"S3 checkpoint file path: {}\".format(checkpoint_path))"
   ]
  },
  {
   "cell_type": "code",
   "execution_count": 412,
   "metadata": {},
   "outputs": [
    {
     "name": "stdout",
     "output_type": "stream",
     "text": [
      "\u001b[34mfrom\u001b[39;49;00m \u001b[04m\u001b[36m__future__\u001b[39;49;00m \u001b[34mimport\u001b[39;49;00m absolute_import\n",
      "\u001b[34mfrom\u001b[39;49;00m \u001b[04m\u001b[36m__future__\u001b[39;49;00m \u001b[34mimport\u001b[39;49;00m division\n",
      "\u001b[34mfrom\u001b[39;49;00m \u001b[04m\u001b[36m__future__\u001b[39;49;00m \u001b[34mimport\u001b[39;49;00m print_function\n",
      "\n",
      "\u001b[34mimport\u001b[39;49;00m \u001b[04m\u001b[36margparse\u001b[39;49;00m\n",
      "\u001b[34mimport\u001b[39;49;00m \u001b[04m\u001b[36mjson\u001b[39;49;00m\n",
      "\u001b[34mimport\u001b[39;49;00m \u001b[04m\u001b[36mos\u001b[39;49;00m\n",
      "\u001b[34mimport\u001b[39;49;00m \u001b[04m\u001b[36msubprocess\u001b[39;49;00m\n",
      "\u001b[34mimport\u001b[39;49;00m \u001b[04m\u001b[36mshutil\u001b[39;49;00m\n",
      "\u001b[34mfrom\u001b[39;49;00m \u001b[04m\u001b[36mglob\u001b[39;49;00m \u001b[34mimport\u001b[39;49;00m glob\n",
      "\n",
      "\u001b[34mimport\u001b[39;49;00m \u001b[04m\u001b[36mnumpy\u001b[39;49;00m \u001b[34mas\u001b[39;49;00m \u001b[04m\u001b[36mnp\u001b[39;49;00m\n",
      "\u001b[34mimport\u001b[39;49;00m \u001b[04m\u001b[36mos\u001b[39;49;00m\n",
      "\n",
      "\u001b[34mimport\u001b[39;49;00m \u001b[04m\u001b[36mgym\u001b[39;49;00m\n",
      "\u001b[34mfrom\u001b[39;49;00m \u001b[04m\u001b[36mgym\u001b[39;49;00m \u001b[34mimport\u001b[39;49;00m wrappers\n",
      "\u001b[34mimport\u001b[39;49;00m \u001b[04m\u001b[36mray\u001b[39;49;00m\n",
      "\u001b[34mfrom\u001b[39;49;00m \u001b[04m\u001b[36mray\u001b[39;49;00m\u001b[04m\u001b[36m.\u001b[39;49;00m\u001b[04m\u001b[36mrllib\u001b[39;49;00m\u001b[04m\u001b[36m.\u001b[39;49;00m\u001b[04m\u001b[36mmodels\u001b[39;49;00m \u001b[34mimport\u001b[39;49;00m ModelCatalog\n",
      "\u001b[34mfrom\u001b[39;49;00m \u001b[04m\u001b[36mray\u001b[39;49;00m\u001b[04m\u001b[36m.\u001b[39;49;00m\u001b[04m\u001b[36mtune\u001b[39;49;00m\u001b[04m\u001b[36m.\u001b[39;49;00m\u001b[04m\u001b[36mregistry\u001b[39;49;00m \u001b[34mimport\u001b[39;49;00m register_env\n",
      "\u001b[34mfrom\u001b[39;49;00m \u001b[04m\u001b[36mmlagents_envs\u001b[39;49;00m\u001b[04m\u001b[36m.\u001b[39;49;00m\u001b[04m\u001b[36menvironment\u001b[39;49;00m \u001b[34mimport\u001b[39;49;00m UnityEnvironment\n",
      "\u001b[34mfrom\u001b[39;49;00m \u001b[04m\u001b[36mmlagents_envs\u001b[39;49;00m\u001b[04m\u001b[36m.\u001b[39;49;00m\u001b[04m\u001b[36mside_channel\u001b[39;49;00m\u001b[04m\u001b[36m.\u001b[39;49;00m\u001b[04m\u001b[36menvironment_parameters_channel\u001b[39;49;00m \u001b[34mimport\u001b[39;49;00m EnvironmentParametersChannel\n",
      "\u001b[34mfrom\u001b[39;49;00m \u001b[04m\u001b[36mmlagents_envs\u001b[39;49;00m\u001b[04m\u001b[36m.\u001b[39;49;00m\u001b[04m\u001b[36mexception\u001b[39;49;00m \u001b[34mimport\u001b[39;49;00m UnityWorkerInUseException\n",
      "\u001b[34mfrom\u001b[39;49;00m \u001b[04m\u001b[36mmlagents_envs\u001b[39;49;00m\u001b[04m\u001b[36m.\u001b[39;49;00m\u001b[04m\u001b[36mregistry\u001b[39;49;00m \u001b[34mimport\u001b[39;49;00m default_registry\n",
      "\u001b[34mfrom\u001b[39;49;00m \u001b[04m\u001b[36mgym_unity\u001b[39;49;00m\u001b[04m\u001b[36m.\u001b[39;49;00m\u001b[04m\u001b[36menvs\u001b[39;49;00m \u001b[34mimport\u001b[39;49;00m UnityToGymWrapper\n",
      "\n",
      "\n",
      "OUTPUT_DIR = \u001b[33m\"\u001b[39;49;00m\u001b[33m/opt/ml/output/intermediate\u001b[39;49;00m\u001b[33m\"\u001b[39;49;00m\n",
      "\n",
      "\n",
      "\u001b[34mclass\u001b[39;49;00m \u001b[04m\u001b[32mUnityEnvWrapper\u001b[39;49;00m(gym.Env):\n",
      "    \u001b[34mdef\u001b[39;49;00m \u001b[32m__init__\u001b[39;49;00m(\u001b[36mself\u001b[39;49;00m, env_config):\n",
      "        \u001b[36mself\u001b[39;49;00m.worker_index = \u001b[34m0\u001b[39;49;00m\n",
      "\n",
      "        \u001b[34mif\u001b[39;49;00m \u001b[33m'\u001b[39;49;00m\u001b[33mSM_CHANNEL_TRAIN\u001b[39;49;00m\u001b[33m'\u001b[39;49;00m \u001b[35min\u001b[39;49;00m os.environ:\n",
      "            env_name = os.environ[\u001b[33m'\u001b[39;49;00m\u001b[33mSM_CHANNEL_TRAIN\u001b[39;49;00m\u001b[33m'\u001b[39;49;00m] +\u001b[33m'\u001b[39;49;00m\u001b[33m/\u001b[39;49;00m\u001b[33m'\u001b[39;49;00m+ env_config[\u001b[33m'\u001b[39;49;00m\u001b[33menv_name\u001b[39;49;00m\u001b[33m'\u001b[39;49;00m]\n",
      "            os.chmod(env_name, \u001b[34m0o755\u001b[39;49;00m)\n",
      "            \u001b[36mprint\u001b[39;49;00m(\u001b[33m\"\u001b[39;49;00m\u001b[33mChanged environment binary into executable mode.\u001b[39;49;00m\u001b[33m\"\u001b[39;49;00m)\n",
      "            \u001b[37m# Try connecting to the Unity3D game instance.\u001b[39;49;00m\n",
      "            \u001b[34mwhile\u001b[39;49;00m \u001b[34mTrue\u001b[39;49;00m:\n",
      "                \u001b[34mtry\u001b[39;49;00m:\n",
      "                    channel = EnvironmentParametersChannel()\n",
      "                    unity_env = UnityEnvironment(\n",
      "                                    env_name, \n",
      "                                    no_graphics=\u001b[34mTrue\u001b[39;49;00m, \n",
      "                                    worker_id=\u001b[36mself\u001b[39;49;00m.worker_index, \n",
      "                                    side_channels=[channel], \n",
      "                                    additional_args=[\u001b[33m'\u001b[39;49;00m\u001b[33m-logFile\u001b[39;49;00m\u001b[33m'\u001b[39;49;00m, \u001b[33m'\u001b[39;49;00m\u001b[33munity.log\u001b[39;49;00m\u001b[33m'\u001b[39;49;00m])\n",
      "                    channel.set_float_parameter(\u001b[33m\"\u001b[39;49;00m\u001b[33msimulation_mode\u001b[39;49;00m\u001b[33m\"\u001b[39;49;00m, \u001b[34m1.0\u001b[39;49;00m)\n",
      "                \u001b[34mexcept\u001b[39;49;00m UnityWorkerInUseException:\n",
      "                    \u001b[36mself\u001b[39;49;00m.worker_index += \u001b[34m1\u001b[39;49;00m\n",
      "                \u001b[34melse\u001b[39;49;00m:\n",
      "                    \u001b[34mbreak\u001b[39;49;00m\n",
      "        \u001b[34melse\u001b[39;49;00m:\n",
      "            env_name = env_config[\u001b[33m'\u001b[39;49;00m\u001b[33menv_name\u001b[39;49;00m\u001b[33m'\u001b[39;49;00m]\n",
      "            \u001b[34mwhile\u001b[39;49;00m \u001b[34mTrue\u001b[39;49;00m:\n",
      "                \u001b[34mtry\u001b[39;49;00m:\n",
      "                    unity_env = default_registry[env_name].make(\n",
      "                        no_graphics=\u001b[34mTrue\u001b[39;49;00m,\n",
      "                        worker_id=\u001b[36mself\u001b[39;49;00m.worker_index,\n",
      "                        additional_args=[\u001b[33m'\u001b[39;49;00m\u001b[33m-logFile\u001b[39;49;00m\u001b[33m'\u001b[39;49;00m, \u001b[33m'\u001b[39;49;00m\u001b[33munity.log\u001b[39;49;00m\u001b[33m'\u001b[39;49;00m])\n",
      "                \u001b[34mexcept\u001b[39;49;00m UnityWorkerInUseException:\n",
      "                    \u001b[36mself\u001b[39;49;00m.worker_index += \u001b[34m1\u001b[39;49;00m\n",
      "                \u001b[34melse\u001b[39;49;00m:\n",
      "                    \u001b[34mbreak\u001b[39;49;00m\n",
      "            \n",
      "        \u001b[36mself\u001b[39;49;00m.env = UnityToGymWrapper(unity_env) \n",
      "        \u001b[36mself\u001b[39;49;00m.action_space = \u001b[36mself\u001b[39;49;00m.env.action_space\n",
      "        \u001b[36mself\u001b[39;49;00m.observation_space = \u001b[36mself\u001b[39;49;00m.env.observation_space\n",
      "\n",
      "    \u001b[34mdef\u001b[39;49;00m \u001b[32mreset\u001b[39;49;00m(\u001b[36mself\u001b[39;49;00m):\n",
      "        \u001b[34mreturn\u001b[39;49;00m \u001b[36mself\u001b[39;49;00m.env.reset()\n",
      "\n",
      "    \u001b[34mdef\u001b[39;49;00m \u001b[32mstep\u001b[39;49;00m(\u001b[36mself\u001b[39;49;00m, action):\n",
      "        \u001b[34mreturn\u001b[39;49;00m \u001b[36mself\u001b[39;49;00m.env.step(action)\n",
      "\n",
      "    \u001b[34mdef\u001b[39;49;00m \u001b[32mclose\u001b[39;49;00m(\u001b[36mself\u001b[39;49;00m):\n",
      "        \u001b[34mtry\u001b[39;49;00m:\n",
      "            \u001b[36mself\u001b[39;49;00m.env.close()\n",
      "        \u001b[34mexcept\u001b[39;49;00m \u001b[36mException\u001b[39;49;00m:\n",
      "            \u001b[34mpass\u001b[39;49;00m\n",
      "\n",
      "\u001b[34mdef\u001b[39;49;00m \u001b[32mcreate_parser\u001b[39;49;00m(parser_creator=\u001b[34mNone\u001b[39;49;00m):\n",
      "    parser = argparse.ArgumentParser()\n",
      "    parser.add_argument(\n",
      "        \u001b[33m\"\u001b[39;49;00m\u001b[33m--checkpoint\u001b[39;49;00m\u001b[33m\"\u001b[39;49;00m,\n",
      "        default=\u001b[33m\"\u001b[39;49;00m\u001b[33m/opt/ml/input/data/model/checkpoint\u001b[39;49;00m\u001b[33m\"\u001b[39;49;00m,\n",
      "        \u001b[36mtype\u001b[39;49;00m=\u001b[36mstr\u001b[39;49;00m,\n",
      "        help=\u001b[33m\"\u001b[39;49;00m\u001b[33mCheckpoint from which to roll out.\u001b[39;49;00m\u001b[33m\"\u001b[39;49;00m)\n",
      "    parser.add_argument(\n",
      "        \u001b[33m\"\u001b[39;49;00m\u001b[33m--algorithm\u001b[39;49;00m\u001b[33m\"\u001b[39;49;00m,\n",
      "        \u001b[36mtype\u001b[39;49;00m=\u001b[36mstr\u001b[39;49;00m,\n",
      "        required=\u001b[34mTrue\u001b[39;49;00m,\n",
      "        help=\u001b[33m\"\u001b[39;49;00m\u001b[33mThe algorithm or model to train. This may refer to the name \u001b[39;49;00m\u001b[33m\"\u001b[39;49;00m\n",
      "             \u001b[33m\"\u001b[39;49;00m\u001b[33mof a built-on algorithm (e.g. RLLib\u001b[39;49;00m\u001b[33m'\u001b[39;49;00m\u001b[33ms DQN or PPO), or a \u001b[39;49;00m\u001b[33m\"\u001b[39;49;00m\n",
      "             \u001b[33m\"\u001b[39;49;00m\u001b[33muser-defined trainable function or class registered in the \u001b[39;49;00m\u001b[33m\"\u001b[39;49;00m\n",
      "             \u001b[33m\"\u001b[39;49;00m\u001b[33mtune registry.\u001b[39;49;00m\u001b[33m\"\u001b[39;49;00m)\n",
      "    parser.add_argument(\n",
      "        \u001b[33m\"\u001b[39;49;00m\u001b[33m--env\u001b[39;49;00m\u001b[33m\"\u001b[39;49;00m, \u001b[36mtype\u001b[39;49;00m=\u001b[36mstr\u001b[39;49;00m, help=\u001b[33m\"\u001b[39;49;00m\u001b[33mThe Unity environment to use.\u001b[39;49;00m\u001b[33m\"\u001b[39;49;00m)\n",
      "    parser.add_argument(\n",
      "        \u001b[33m\"\u001b[39;49;00m\u001b[33m--evaluate_episodes\u001b[39;49;00m\u001b[33m\"\u001b[39;49;00m, default=\u001b[34mNone\u001b[39;49;00m, help=\u001b[33m\"\u001b[39;49;00m\u001b[33mNumber of episodes to roll out.\u001b[39;49;00m\u001b[33m\"\u001b[39;49;00m)\n",
      "    parser.add_argument(\n",
      "        \u001b[33m\"\u001b[39;49;00m\u001b[33m--config\u001b[39;49;00m\u001b[33m\"\u001b[39;49;00m,\n",
      "        default=\u001b[33m\"\u001b[39;49;00m\u001b[33m{}\u001b[39;49;00m\u001b[33m\"\u001b[39;49;00m,\n",
      "        \u001b[36mtype\u001b[39;49;00m=json.loads,\n",
      "        help=\u001b[33m\"\u001b[39;49;00m\u001b[33mAlgorithm-specific configuration (e.g. env, hyperparams). \u001b[39;49;00m\u001b[33m\"\u001b[39;49;00m\n",
      "             \u001b[33m\"\u001b[39;49;00m\u001b[33mSurpresses loading of configuration from checkpoint.\u001b[39;49;00m\u001b[33m\"\u001b[39;49;00m)\n",
      "    \u001b[34mreturn\u001b[39;49;00m parser\n",
      "\n",
      "\n",
      "\u001b[34mdef\u001b[39;49;00m \u001b[32mrun\u001b[39;49;00m(args, parser):\n",
      "\n",
      "    \u001b[34mif\u001b[39;49;00m \u001b[35mnot\u001b[39;49;00m args.config:\n",
      "        \u001b[37m# Load configuration from file\u001b[39;49;00m\n",
      "        config_dir = os.path.dirname(args.checkpoint)\n",
      "        \u001b[37m# params.json is saved in the model directory during ray training by default\u001b[39;49;00m\n",
      "        config_path = os.path.join(config_dir, \u001b[33m\"\u001b[39;49;00m\u001b[33mparams.json\u001b[39;49;00m\u001b[33m\"\u001b[39;49;00m)\n",
      "        \u001b[34mwith\u001b[39;49;00m \u001b[36mopen\u001b[39;49;00m(config_path) \u001b[34mas\u001b[39;49;00m f:\n",
      "            args.config = json.load(f)\n",
      "\n",
      "    \u001b[34mif\u001b[39;49;00m \u001b[35mnot\u001b[39;49;00m args.env:\n",
      "        \u001b[34mif\u001b[39;49;00m \u001b[35mnot\u001b[39;49;00m args.config.get(\u001b[33m\"\u001b[39;49;00m\u001b[33menv\u001b[39;49;00m\u001b[33m\"\u001b[39;49;00m):\n",
      "            parser.error(\u001b[33m\"\u001b[39;49;00m\u001b[33mthe following arguments are required: --env\u001b[39;49;00m\u001b[33m\"\u001b[39;49;00m)\n",
      "        args.env = args.config.get(\u001b[33m\"\u001b[39;49;00m\u001b[33menv\u001b[39;49;00m\u001b[33m\"\u001b[39;49;00m)\n",
      "\n",
      "    ray.init(webui_host=\u001b[33m\"\u001b[39;49;00m\u001b[33m127.0.0.1\u001b[39;49;00m\u001b[33m\"\u001b[39;49;00m)\n",
      "\n",
      "    agent_env_config = {\u001b[33m\"\u001b[39;49;00m\u001b[33menv_name\u001b[39;49;00m\u001b[33m\"\u001b[39;49;00m: args.env}\n",
      "\n",
      "    register_env(\u001b[33m\"\u001b[39;49;00m\u001b[33munity_env\u001b[39;49;00m\u001b[33m\"\u001b[39;49;00m, \u001b[34mlambda\u001b[39;49;00m config: UnityEnvWrapper(agent_env_config))\n",
      "\n",
      "    \u001b[34mif\u001b[39;49;00m ray.__version__ >= \u001b[33m\"\u001b[39;49;00m\u001b[33m0.6.5\u001b[39;49;00m\u001b[33m\"\u001b[39;49;00m:\n",
      "        \u001b[34mfrom\u001b[39;49;00m \u001b[04m\u001b[36mray\u001b[39;49;00m\u001b[04m\u001b[36m.\u001b[39;49;00m\u001b[04m\u001b[36mrllib\u001b[39;49;00m\u001b[04m\u001b[36m.\u001b[39;49;00m\u001b[04m\u001b[36magents\u001b[39;49;00m\u001b[04m\u001b[36m.\u001b[39;49;00m\u001b[04m\u001b[36mregistry\u001b[39;49;00m \u001b[34mimport\u001b[39;49;00m get_agent_class\n",
      "    \u001b[34melse\u001b[39;49;00m:\n",
      "        \u001b[34mfrom\u001b[39;49;00m \u001b[04m\u001b[36mray\u001b[39;49;00m\u001b[04m\u001b[36m.\u001b[39;49;00m\u001b[04m\u001b[36mrllib\u001b[39;49;00m\u001b[04m\u001b[36m.\u001b[39;49;00m\u001b[04m\u001b[36magents\u001b[39;49;00m\u001b[04m\u001b[36m.\u001b[39;49;00m\u001b[04m\u001b[36magent\u001b[39;49;00m \u001b[34mimport\u001b[39;49;00m get_agent_class\n",
      "\n",
      "    \u001b[36mcls\u001b[39;49;00m = get_agent_class(args.algorithm)\n",
      "    config = args.config\n",
      "    config[\u001b[33m\"\u001b[39;49;00m\u001b[33mmonitor\u001b[39;49;00m\u001b[33m\"\u001b[39;49;00m] = \u001b[34mFalse\u001b[39;49;00m\n",
      "    config[\u001b[33m\"\u001b[39;49;00m\u001b[33mnum_workers\u001b[39;49;00m\u001b[33m\"\u001b[39;49;00m] = \u001b[34m0\u001b[39;49;00m\n",
      "    config[\u001b[33m\"\u001b[39;49;00m\u001b[33mnum_gpus\u001b[39;49;00m\u001b[33m\"\u001b[39;49;00m] = \u001b[34m0\u001b[39;49;00m\n",
      "    agent = \u001b[36mcls\u001b[39;49;00m(env=\u001b[33m\"\u001b[39;49;00m\u001b[33munity_env\u001b[39;49;00m\u001b[33m\"\u001b[39;49;00m, config=config)\n",
      "    \u001b[37m# Delete unnessesary logs\u001b[39;49;00m\n",
      "    env_name = args.env.split(\u001b[33m'\u001b[39;49;00m\u001b[33m.\u001b[39;49;00m\u001b[33m'\u001b[39;49;00m)[\u001b[34m0\u001b[39;49;00m]\n",
      "    files = glob(\u001b[33m\"\u001b[39;49;00m\u001b[33m/opt/ml/input/data/train/\u001b[39;49;00m\u001b[33m{}\u001b[39;49;00m\u001b[33m_Data/Logs/*.csv\u001b[39;49;00m\u001b[33m\"\u001b[39;49;00m.format(env_name), recursive=\u001b[34mTrue\u001b[39;49;00m)\n",
      "    \u001b[34mfor\u001b[39;49;00m file \u001b[35min\u001b[39;49;00m files:\n",
      "        os.remove(file)\n",
      "\n",
      "    agent.restore(args.checkpoint)\n",
      "    num_episodes = \u001b[36mint\u001b[39;49;00m(args.evaluate_episodes)\n",
      "\n",
      "    env_config = {\u001b[33m\"\u001b[39;49;00m\u001b[33menv_name\u001b[39;49;00m\u001b[33m\"\u001b[39;49;00m: args.env}\n",
      "\n",
      "    \u001b[34mif\u001b[39;49;00m ray.__version__ >= \u001b[33m\"\u001b[39;49;00m\u001b[33m0.6.5\u001b[39;49;00m\u001b[33m\"\u001b[39;49;00m:\n",
      "        env = UnityEnvWrapper(env_config)\n",
      "    \u001b[34melse\u001b[39;49;00m:\n",
      "        \u001b[34mfrom\u001b[39;49;00m \u001b[04m\u001b[36mray\u001b[39;49;00m\u001b[04m\u001b[36m.\u001b[39;49;00m\u001b[04m\u001b[36mrllib\u001b[39;49;00m\u001b[04m\u001b[36m.\u001b[39;49;00m\u001b[04m\u001b[36magents\u001b[39;49;00m\u001b[04m\u001b[36m.\u001b[39;49;00m\u001b[04m\u001b[36mdqn\u001b[39;49;00m\u001b[04m\u001b[36m.\u001b[39;49;00m\u001b[04m\u001b[36mcommon\u001b[39;49;00m\u001b[04m\u001b[36m.\u001b[39;49;00m\u001b[04m\u001b[36mwrappers\u001b[39;49;00m \u001b[34mimport\u001b[39;49;00m wrap_dqn\n",
      "        \u001b[34mif\u001b[39;49;00m args.algorithm == \u001b[33m\"\u001b[39;49;00m\u001b[33mDQN\u001b[39;49;00m\u001b[33m\"\u001b[39;49;00m:\n",
      "            env = UnityEnvWrapper(env_config)\n",
      "            env = wrap_dqn(env, args.config.get(\u001b[33m\"\u001b[39;49;00m\u001b[33mmodel\u001b[39;49;00m\u001b[33m\"\u001b[39;49;00m, {}))\n",
      "        \u001b[34melse\u001b[39;49;00m:\n",
      "            env = ModelCatalog.get_preprocessor_as_wrapper(UnityEnvWrapper(env_config))\n",
      "\n",
      "    env = wrappers.Monitor(env, OUTPUT_DIR, force=\u001b[34mTrue\u001b[39;49;00m, video_callable=\u001b[34mlambda\u001b[39;49;00m episode_id: \u001b[34mTrue\u001b[39;49;00m)\n",
      "    all_rewards = []\n",
      "    \u001b[34mfor\u001b[39;49;00m episode \u001b[35min\u001b[39;49;00m \u001b[36mrange\u001b[39;49;00m(num_episodes):\n",
      "        steps = \u001b[34m0\u001b[39;49;00m\n",
      "        state = env.reset()\n",
      "        done = \u001b[34mFalse\u001b[39;49;00m\n",
      "        reward_total = \u001b[34m0.0\u001b[39;49;00m\n",
      "        \u001b[34mwhile\u001b[39;49;00m \u001b[35mnot\u001b[39;49;00m done:\n",
      "            action = agent.compute_action(state)\n",
      "            next_state, reward, done, _ = env.step(action)\n",
      "            reward_total += reward\n",
      "            steps += \u001b[34m1\u001b[39;49;00m\n",
      "            state = next_state\n",
      "        all_rewards.append(reward_total)\n",
      "        \u001b[36mprint\u001b[39;49;00m(\u001b[33m\"\u001b[39;49;00m\u001b[33mEpisode reward: \u001b[39;49;00m\u001b[33m%s\u001b[39;49;00m\u001b[33m. Episode steps: \u001b[39;49;00m\u001b[33m%s\u001b[39;49;00m\u001b[33m\"\u001b[39;49;00m % (reward_total, steps))\n",
      "\n",
      "    \u001b[36mprint\u001b[39;49;00m(\u001b[33m\"\u001b[39;49;00m\u001b[33mMean Reward:\u001b[39;49;00m\u001b[33m\"\u001b[39;49;00m, np.mean(all_rewards))\n",
      "    \u001b[36mprint\u001b[39;49;00m(\u001b[33m\"\u001b[39;49;00m\u001b[33mMax Reward:\u001b[39;49;00m\u001b[33m\"\u001b[39;49;00m, np.max(all_rewards))\n",
      "    \u001b[36mprint\u001b[39;49;00m(\u001b[33m\"\u001b[39;49;00m\u001b[33mMin Reward:\u001b[39;49;00m\u001b[33m\"\u001b[39;49;00m, np.min(all_rewards))\n",
      "\n",
      "\n",
      "\u001b[34mif\u001b[39;49;00m \u001b[31m__name__\u001b[39;49;00m == \u001b[33m\"\u001b[39;49;00m\u001b[33m__main__\u001b[39;49;00m\u001b[33m\"\u001b[39;49;00m:\n",
      "    parser = create_parser()\n",
      "    args = parser.parse_args()\n",
      "    run(args, parser)\n",
      "    \u001b[34mimport\u001b[39;49;00m \u001b[04m\u001b[36mtime\u001b[39;49;00m\n",
      "    time.sleep(\u001b[34m10\u001b[39;49;00m)\n",
      "\n",
      "    \u001b[37m# Save summary logs in output path\u001b[39;49;00m\n",
      "    env_name = args.env.split(\u001b[33m'\u001b[39;49;00m\u001b[33m.\u001b[39;49;00m\u001b[33m'\u001b[39;49;00m)[\u001b[34m0\u001b[39;49;00m]\n",
      "    shutil.copytree(\u001b[33m\"\u001b[39;49;00m\u001b[33m/opt/ml/input/data/train/\u001b[39;49;00m\u001b[33m{}\u001b[39;49;00m\u001b[33m_Data/Logs\u001b[39;49;00m\u001b[33m\"\u001b[39;49;00m.format(env_name), \u001b[33m\"\u001b[39;49;00m\u001b[33m/opt/ml/output/intermediate/Logs\u001b[39;49;00m\u001b[33m\"\u001b[39;49;00m)\n",
      "    \u001b[37m# print('************** LOG OUTPUT **************')\u001b[39;49;00m\n",
      "    \u001b[37m# files = glob(\"/opt/ml/output/intermediate/Logs/*.csv\", recursive=True)\u001b[39;49;00m\n",
      "    \u001b[37m# for file in files:\u001b[39;49;00m\n",
      "    \u001b[37m#    print(file)\u001b[39;49;00m\n",
      "    \u001b[37m#    print(os.path.getsize(file))\u001b[39;49;00m\n",
      "    \u001b[37m#    data = open(file, \"r\")\u001b[39;49;00m\n",
      "    \u001b[37m#    contents = data.read()\u001b[39;49;00m\n",
      "    \u001b[37m#    print(contents)\u001b[39;49;00m\n",
      "    \u001b[37m#    data.close()\u001b[39;49;00m\n"
     ]
    }
   ],
   "source": [
    "!pygmentize src/evaluate-unity.py"
   ]
  },
  {
   "cell_type": "markdown",
   "metadata": {},
   "source": [
    "### Run the evaluation step for a Unity environment using the trained RL model\n",
    "\n",
    "Use the checkpointed model to run the evaluation step."
   ]
  },
  {
   "cell_type": "code",
   "execution_count": 431,
   "metadata": {
    "scrolled": true
   },
   "outputs": [
    {
     "name": "stderr",
     "output_type": "stream",
     "text": [
      "WARNING:root:Parameter image_name will be renamed to image_uri in SageMaker Python SDK v2.\n",
      "WARNING:sagemaker:'s3_input' class will be renamed to 'TrainingInput' in SageMaker Python SDK v2.\n",
      "WARNING:sagemaker:'s3_input' class will be renamed to 'TrainingInput' in SageMaker Python SDK v2.\n"
     ]
    },
    {
     "name": "stdout",
     "output_type": "stream",
     "text": [
      "CPU times: user 101 ms, sys: 4.6 ms, total: 105 ms\n",
      "Wall time: 545 ms\n"
     ]
    }
   ],
   "source": [
    "%%time\n",
    "    \n",
    "estimator_eval = RLEstimator(entry_point=\"evaluate-unity.py\",\n",
    "                        source_dir='src',\n",
    "                        dependencies=[\"common/sagemaker_rl\"],\n",
    "                        image_name=custom_image_name,\n",
    "                        role=role,\n",
    "                        train_instance_type=instance_type,\n",
    "                        train_instance_count=1,\n",
    "                        output_path=s3_output_path,\n",
    "                        base_job_name=job_name_prefix + \"-evaluation\",\n",
    "                        hyperparameters={\n",
    "                            \"evaluate_episodes\": 1200,\n",
    "                            \"algorithm\": \"PPO\",\n",
    "                            \"env\": \"RollerBallSimulation.x86_64\"\n",
    "                        }\n",
    "                    )\n",
    "\n",
    "estimator_eval.fit({'model': checkpoint_path, 'train': s3_binary_path}, wait=local_mode) # specify a train channel for the custom Unity executable option\n",
    "job_name = estimator_eval.latest_training_job.job_name"
   ]
  },
  {
   "cell_type": "markdown",
   "metadata": {},
   "source": [
    "## Visualize the output for the stage evaluation"
   ]
  },
  {
   "cell_type": "code",
   "execution_count": 429,
   "metadata": {},
   "outputs": [
    {
     "name": "stdout",
     "output_type": "stream",
     "text": [
      "Create local directory for Summary Logs /tmp/rl-unity-ray-evaluation-2020-11-18-07-53-58-756/Logs\n",
      "Waiting for s3://sagemaker-unity-mlagents/rl-unity-ray-evaluation-2020-11-18-07-53-58-756/output/intermediate/Logs...\n",
      "Downloading rl-unity-ray-evaluation-2020-11-18-07-53-58-756/output/intermediate/Logs/20201118_075742RollerBallSummaryLog.csv\n"
     ]
    }
   ],
   "source": [
    "tmp_dir = \"/tmp/{}\".format(job_name)\n",
    "summary_logs_dir = \"{}/Logs\".format(tmp_dir)\n",
    "os.system(\"mkdir -p {}\".format(summary_logs_dir))\n",
    "print(\"Create local directory for Summary Logs {}\".format(summary_logs_dir))\n",
    "\n",
    "if local_mode:\n",
    "    summary_log_key = \"{}/intermediate/Logs\".format(job_name)\n",
    "else:\n",
    "    summary_log_key = \"{}/output/intermediate/Logs\".format(job_name)\n",
    "\n",
    "wait_for_s3_object(s3_bucket, summary_log_key, summary_logs_dir, training_job_name=job_name)  \n",
    "\n",
    "if not os.path.isdir(summary_logs_dir):\n",
    "    raise FileNotFoundError(\"Directory Logs not found\")"
   ]
  },
  {
   "cell_type": "code",
   "execution_count": 430,
   "metadata": {},
   "outputs": [
    {
     "name": "stdout",
     "output_type": "stream",
     "text": [
      "/tmp/rl-unity-ray-evaluation-2020-11-18-07-53-58-756/Logs/20201118_075742RollerBallSummaryLog.csv\n",
      "10844\n"
     ]
    },
    {
     "data": {
      "text/html": [
       "<div>\n",
       "<style scoped>\n",
       "    .dataframe tbody tr th:only-of-type {\n",
       "        vertical-align: middle;\n",
       "    }\n",
       "\n",
       "    .dataframe tbody tr th {\n",
       "        vertical-align: top;\n",
       "    }\n",
       "\n",
       "    .dataframe thead th {\n",
       "        text-align: right;\n",
       "    }\n",
       "</style>\n",
       "<table border=\"1\" class=\"dataframe\">\n",
       "  <thead>\n",
       "    <tr style=\"text-align: right;\">\n",
       "      <th></th>\n",
       "      <th>number_of_obstacles</th>\n",
       "      <th>cleared?</th>\n",
       "      <th>status</th>\n",
       "    </tr>\n",
       "  </thead>\n",
       "  <tbody>\n",
       "    <tr>\n",
       "      <th>0</th>\n",
       "      <td>9</td>\n",
       "      <td>False</td>\n",
       "      <td>2</td>\n",
       "    </tr>\n",
       "    <tr>\n",
       "      <th>1</th>\n",
       "      <td>11</td>\n",
       "      <td>False</td>\n",
       "      <td>2</td>\n",
       "    </tr>\n",
       "    <tr>\n",
       "      <th>2</th>\n",
       "      <td>11</td>\n",
       "      <td>False</td>\n",
       "      <td>2</td>\n",
       "    </tr>\n",
       "    <tr>\n",
       "      <th>3</th>\n",
       "      <td>7</td>\n",
       "      <td>False</td>\n",
       "      <td>2</td>\n",
       "    </tr>\n",
       "    <tr>\n",
       "      <th>4</th>\n",
       "      <td>3</td>\n",
       "      <td>False</td>\n",
       "      <td>3</td>\n",
       "    </tr>\n",
       "    <tr>\n",
       "      <th>...</th>\n",
       "      <td>...</td>\n",
       "      <td>...</td>\n",
       "      <td>...</td>\n",
       "    </tr>\n",
       "    <tr>\n",
       "      <th>150</th>\n",
       "      <td>1</td>\n",
       "      <td>False</td>\n",
       "      <td>3</td>\n",
       "    </tr>\n",
       "    <tr>\n",
       "      <th>151</th>\n",
       "      <td>5</td>\n",
       "      <td>False</td>\n",
       "      <td>2</td>\n",
       "    </tr>\n",
       "    <tr>\n",
       "      <th>152</th>\n",
       "      <td>5</td>\n",
       "      <td>False</td>\n",
       "      <td>2</td>\n",
       "    </tr>\n",
       "    <tr>\n",
       "      <th>153</th>\n",
       "      <td>1</td>\n",
       "      <td>False</td>\n",
       "      <td>2</td>\n",
       "    </tr>\n",
       "    <tr>\n",
       "      <th>154</th>\n",
       "      <td>7</td>\n",
       "      <td>False</td>\n",
       "      <td>2</td>\n",
       "    </tr>\n",
       "  </tbody>\n",
       "</table>\n",
       "<p>155 rows × 3 columns</p>\n",
       "</div>"
      ],
      "text/plain": [
       "     number_of_obstacles  cleared?  status\n",
       "0                      9     False       2\n",
       "1                     11     False       2\n",
       "2                     11     False       2\n",
       "3                      7     False       2\n",
       "4                      3     False       3\n",
       "..                   ...       ...     ...\n",
       "150                    1     False       3\n",
       "151                    5     False       2\n",
       "152                    5     False       2\n",
       "153                    1     False       2\n",
       "154                    7     False       2\n",
       "\n",
       "[155 rows x 3 columns]"
      ]
     },
     "metadata": {},
     "output_type": "display_data"
    },
    {
     "data": {
      "text/html": [
       "<div>\n",
       "<style scoped>\n",
       "    .dataframe tbody tr th:only-of-type {\n",
       "        vertical-align: middle;\n",
       "    }\n",
       "\n",
       "    .dataframe tbody tr th {\n",
       "        vertical-align: top;\n",
       "    }\n",
       "\n",
       "    .dataframe thead th {\n",
       "        text-align: right;\n",
       "    }\n",
       "</style>\n",
       "<table border=\"1\" class=\"dataframe\">\n",
       "  <thead>\n",
       "    <tr style=\"text-align: right;\">\n",
       "      <th></th>\n",
       "      <th>number_of_obstacles</th>\n",
       "      <th>success_rate</th>\n",
       "      <th>total_count</th>\n",
       "    </tr>\n",
       "  </thead>\n",
       "  <tbody>\n",
       "    <tr>\n",
       "      <th>5</th>\n",
       "      <td>1</td>\n",
       "      <td>0.107143</td>\n",
       "      <td>28</td>\n",
       "    </tr>\n",
       "    <tr>\n",
       "      <th>3</th>\n",
       "      <td>3</td>\n",
       "      <td>0.333333</td>\n",
       "      <td>21</td>\n",
       "    </tr>\n",
       "    <tr>\n",
       "      <th>4</th>\n",
       "      <td>5</td>\n",
       "      <td>0.266667</td>\n",
       "      <td>30</td>\n",
       "    </tr>\n",
       "    <tr>\n",
       "      <th>2</th>\n",
       "      <td>7</td>\n",
       "      <td>0.160000</td>\n",
       "      <td>25</td>\n",
       "    </tr>\n",
       "    <tr>\n",
       "      <th>0</th>\n",
       "      <td>9</td>\n",
       "      <td>0.068966</td>\n",
       "      <td>29</td>\n",
       "    </tr>\n",
       "    <tr>\n",
       "      <th>1</th>\n",
       "      <td>11</td>\n",
       "      <td>0.136364</td>\n",
       "      <td>22</td>\n",
       "    </tr>\n",
       "  </tbody>\n",
       "</table>\n",
       "</div>"
      ],
      "text/plain": [
       "   number_of_obstacles  success_rate  total_count\n",
       "5                    1      0.107143           28\n",
       "3                    3      0.333333           21\n",
       "4                    5      0.266667           30\n",
       "2                    7      0.160000           25\n",
       "0                    9      0.068966           29\n",
       "1                   11      0.136364           22"
      ]
     },
     "metadata": {},
     "output_type": "display_data"
    },
    {
     "data": {
      "image/png": "[encoded data removed]",
      "text/plain": [
       "<Figure size 432x288 with 1 Axes>"
      ]
     },
     "metadata": {
      "needs_background": "light"
     },
     "output_type": "display_data"
    }
   ],
   "source": [
    "%matplotlib inline\n",
    "from glob import glob\n",
    "import pandas as pd\n",
    "files = glob(\"{}/*.csv\".format(summary_logs_dir), recursive=True)\n",
    "for file in files:\n",
    "    print(file)\n",
    "    print(os.path.getsize(file))\n",
    "    result = pd.read_csv(file)\n",
    "    display(result.drop(['play_id', 'message', 'created_at'], axis=1))\n",
    "    number_of_obstacles = result['number_of_obstacles'].unique()\n",
    "    summary = []\n",
    "    for item in number_of_obstacles:\n",
    "        cleared_count = ((result['number_of_obstacles'] == item) & (result['cleared?'] == True)).sum()\n",
    "        total_count = (result['number_of_obstacles'] == item).sum()\n",
    "        success_rate = cleared_count / total_count\n",
    "        summary.append([item, success_rate, total_count])\n",
    "    if len(summary) != 0:\n",
    "        df = pd.DataFrame(summary, columns=['number_of_obstacles', 'success_rate', 'total_count']).sort_values('number_of_obstacles')\n",
    "        display(df)\n",
    "        df=df.astype(float)\n",
    "        df.plot(x='number_of_obstacles', y='success_rate')"
   ]
  },
  {
   "cell_type": "code",
   "execution_count": null,
   "metadata": {},
   "outputs": [],
   "source": []
  }
 ],
 "metadata": {
  "anaconda-cloud": {},
  "kernelspec": {
   "display_name": "conda_tensorflow_p36",
   "language": "python",
   "name": "conda_tensorflow_p36"
  },
  "language_info": {
   "codemirror_mode": {
    "name": "ipython",
    "version": 3
   },
   "file_extension": ".py",
   "mimetype": "text/x-python",
   "name": "python",
   "nbconvert_exporter": "python",
   "pygments_lexer": "ipython3",
   "version": "3.6.10"
  },
  "notice": "Copyright 2018 Amazon.com, Inc. or its affiliates. All Rights Reserved. Licensed under the Apache License, Version 2.0 (the \"License\"). You may not use this file except in compliance with the License. A copy of the License is located at http://aws.amazon.com/apache2.0/ or in the \"license\" file accompanying this file. This file is distributed on an \"AS IS\" BASIS, WITHOUT WARRANTIES OR CONDITIONS OF ANY KIND, either express or implied. See the License for the specific language governing permissions and limitations under the License."
 },
 "nbformat": 4,
 "nbformat_minor": 4
}
